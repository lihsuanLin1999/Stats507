{
 "cells": [
  {
   "cell_type": "code",
   "execution_count": 1,
   "id": "124285f7",
   "metadata": {},
   "outputs": [],
   "source": [
    "import numpy as np\n",
    "import pandas as pd \n",
    "import statistics\n",
    "import timeit"
   ]
  },
  {
   "cell_type": "code",
   "execution_count": 2,
   "id": "dd21cb4f",
   "metadata": {},
   "outputs": [],
   "source": [
    "# load the datasets\n",
    "dat_g = pd.read_sas(\"DEMO_G.XPT\")\n",
    "dat_h = pd.read_sas(\"DEMO_H.XPT\")\n",
    "dat_i = pd.read_sas(\"DEMO_I.XPT\")\n",
    "dat_j = pd.read_sas(\"DEMO_J.XPT\")\n",
    "\n",
    "# Add an additional column identifying to which cohort each case belongs\n",
    "dat_g['cohort'] = '11-12'\n",
    "dat_h['cohort'] = '13-14'\n",
    "dat_i['cohort'] = '15-16'\n",
    "dat_j['cohort'] = '17-18'\n",
    "\n",
    "# append multiple dataframes to one\n",
    "frames = [dat_g, dat_h,dat_i,dat_j]\n",
    "pd_all = pd.concat(frames)"
   ]
  },
  {
   "cell_type": "code",
   "execution_count": 3,
   "id": "6ecc603f",
   "metadata": {},
   "outputs": [],
   "source": [
    "# subset columns\n",
    "df_all = pd_all[[\"cohort\",\"SEQN\",\"RIDAGEYR\",\"RIDRETH3\",\"DMDEDUC2\",\n",
    "               \"DMDMARTL\",\"RIDSTATR\",\"SDMVPSU\",\"SDMVSTRA\",\"WTMEC2YR\",\n",
    "               \"WTINT2YR\"]]"
   ]
  },
  {
   "cell_type": "code",
   "execution_count": 4,
   "id": "923baff8",
   "metadata": {},
   "outputs": [],
   "source": [
    "# turn off pandas chained assignment\n",
    "pd.options.mode.chained_assignment = None \n",
    "\n",
    "# create a list that has the categorical datatype columns\n",
    "categpry_cols = ['cohort','SEQN','RIDRETH3','DMDEDUC2','DMDMARTL']\n",
    "\n",
    "# create a list that has the integer datatype columns\n",
    "integer_cols = ['RIDAGEYR','RIDSTATR','SDMVPSU','SDMVSTRA']\n",
    "\n",
    "# use for loops tp convert the data to category type and int32 type\n",
    "for col in categpry_cols:\n",
    "    df_all[col] = df_all[col].astype('category')\n",
    "for col in integer_cols:\n",
    "    df_all[col] = df_all[col].astype('int64')"
   ]
  },
  {
   "cell_type": "code",
   "execution_count": 5,
   "id": "cab41605",
   "metadata": {},
   "outputs": [],
   "source": [
    "# rename columns to literal name\n",
    "df_all.rename(columns={'SEQN': 'id', \n",
    "                   'RIDAGEYR': 'age',\n",
    "                   'RIDRETH3':'race and ethnicity',\n",
    "                   'DMDEDUC2':'education',\n",
    "                   'DMDMARTL':'marital status'\n",
    "                    }, inplace=True)"
   ]
  },
  {
   "cell_type": "code",
   "execution_count": 6,
   "id": "4be5f5f6",
   "metadata": {},
   "outputs": [],
   "source": [
    "# save dataframe to pickle format\n",
    "df_all.to_pickle(\"nhanes.pkl\")"
   ]
  },
  {
   "cell_type": "markdown",
   "id": "d06dba30",
   "metadata": {},
   "source": [
    "### b"
   ]
  },
  {
   "cell_type": "code",
   "execution_count": 7,
   "id": "24faf43b",
   "metadata": {},
   "outputs": [
    {
     "name": "stderr",
     "output_type": "stream",
     "text": [
      "C:\\Users\\l6040\\anaconda3\\envs\\stats\\lib\\site-packages\\pandas\\io\\sas\\sas_xport.py:475: PerformanceWarning: DataFrame is highly fragmented.  This is usually the result of calling `frame.insert` many times, which has poor performance.  Consider joining all columns at once using pd.concat(axis=1) instead.  To get a de-fragmented frame, use `newframe = frame.copy()`\n",
      "  df[x] = v\n",
      "C:\\Users\\l6040\\AppData\\Local\\Temp/ipykernel_15848/1678306110.py:8: PerformanceWarning: DataFrame is highly fragmented.  This is usually the result of calling `frame.insert` many times, which has poor performance.  Consider joining all columns at once using pd.concat(axis=1) instead.  To get a de-fragmented frame, use `newframe = frame.copy()`\n",
      "  dat_teeth_g['cohort'] = '11-12'\n",
      "C:\\Users\\l6040\\AppData\\Local\\Temp/ipykernel_15848/1678306110.py:9: PerformanceWarning: DataFrame is highly fragmented.  This is usually the result of calling `frame.insert` many times, which has poor performance.  Consider joining all columns at once using pd.concat(axis=1) instead.  To get a de-fragmented frame, use `newframe = frame.copy()`\n",
      "  dat_teeth_h['cohort'] = '13-14'\n",
      "C:\\Users\\l6040\\AppData\\Local\\Temp/ipykernel_15848/1678306110.py:10: PerformanceWarning: DataFrame is highly fragmented.  This is usually the result of calling `frame.insert` many times, which has poor performance.  Consider joining all columns at once using pd.concat(axis=1) instead.  To get a de-fragmented frame, use `newframe = frame.copy()`\n",
      "  dat_teeth_i['cohort'] = '15-16'\n",
      "C:\\Users\\l6040\\AppData\\Local\\Temp/ipykernel_15848/1678306110.py:11: PerformanceWarning: DataFrame is highly fragmented.  This is usually the result of calling `frame.insert` many times, which has poor performance.  Consider joining all columns at once using pd.concat(axis=1) instead.  To get a de-fragmented frame, use `newframe = frame.copy()`\n",
      "  dat_teeth_j['cohort'] = '17-18'\n"
     ]
    }
   ],
   "source": [
    "# load the datasets\n",
    "dat_teeth_g = pd.read_sas(\"OHXDEN_G.XPT\")\n",
    "dat_teeth_h = pd.read_sas(\"OHXDEN_H.XPT\")\n",
    "dat_teeth_i = pd.read_sas(\"OHXDEN_I.XPT\")\n",
    "dat_teeth_j = pd.read_sas(\"OHXDEN_J.XPT\")\n",
    "\n",
    "# create a column to identify to which cohort each case belongs.\n",
    "dat_teeth_g['cohort'] = '11-12'\n",
    "dat_teeth_h['cohort'] = '13-14'\n",
    "dat_teeth_i['cohort'] = '15-16'\n",
    "dat_teeth_j['cohort'] = '17-18'\n",
    "\n",
    "# concatenate 4 dataframes to one dataframe\n",
    "frames = [dat_teeth_g, dat_teeth_h,dat_teeth_i,dat_teeth_j]\n",
    "pd_teeth_all = pd.concat(frames)\n",
    "\n",
    "# save dataframe to pickle format\n",
    "pd_teeth_all.to_pickle(\"nhanes_teeth.pkl\")\n",
    "\n",
    "# Use regex to subset columns\n",
    "df_subset = pd_teeth_all.filter(regex='(cohort)|(SEQN)|(OHDDESTS)|(OHX)[0-9]{2}(TC)|(OHX)[0-9]{2}(CTC)')"
   ]
  },
  {
   "cell_type": "code",
   "execution_count": 8,
   "id": "e2c025bb",
   "metadata": {},
   "outputs": [],
   "source": [
    "# turn off pandas chained assignment\n",
    "pd.options.mode.chained_assignment = None \n",
    "\n",
    "# create a list that contains \"CTC\" in a column name\n",
    "ctc_col = [i for i in df_subset.columns if \"CTC\" in i]\n",
    "\n",
    "# create a list that has the categorical datatype columns\n",
    "categpry_cols = ['cohort','SEQN'] + ctc_col\n",
    "\n",
    "# create a list that has the integer datatype\n",
    "integer_cols = [i for i in df_subset.columns if i not in categpry_cols]"
   ]
  },
  {
   "cell_type": "code",
   "execution_count": 9,
   "id": "085df2a6",
   "metadata": {},
   "outputs": [],
   "source": [
    "# fill the missing values to -1\n",
    "df_subset = df_subset.fillna(-1)\n",
    "\n",
    "# use for loops tp convert the data to category type and int32 type\n",
    "for col in categpry_cols:\n",
    "    df_subset[col] = df_subset[col].astype('category')\n",
    "for col in integer_cols:\n",
    "    df_subset[col] = df_subset[col].astype('int')"
   ]
  },
  {
   "cell_type": "code",
   "execution_count": 10,
   "id": "79797037",
   "metadata": {},
   "outputs": [],
   "source": [
    "# rename the column names\n",
    "df_subset.rename(columns={'SEQN': 'id'}, inplace=True)\n",
    "df_subset.head(1)\n",
    "\n",
    "# save it to pickle format\n",
    "df_subset.to_pickle(\"tooth.pkl\")"
   ]
  },
  {
   "cell_type": "markdown",
   "id": "061cf0aa",
   "metadata": {},
   "source": [
    "### C"
   ]
  },
  {
   "cell_type": "code",
   "execution_count": 11,
   "id": "a0412948",
   "metadata": {},
   "outputs": [
    {
     "data": {
      "text/plain": [
       "39156"
      ]
     },
     "execution_count": 11,
     "metadata": {},
     "output_type": "execute_result"
    }
   ],
   "source": [
    "df_all.shape[0]"
   ]
  },
  {
   "cell_type": "code",
   "execution_count": 12,
   "id": "c373955d",
   "metadata": {},
   "outputs": [
    {
     "data": {
      "text/plain": [
       "35909"
      ]
     },
     "execution_count": 12,
     "metadata": {},
     "output_type": "execute_result"
    }
   ],
   "source": [
    "df_subset.shape[0]"
   ]
  },
  {
   "cell_type": "code",
   "execution_count": null,
   "id": "b1cdaed3",
   "metadata": {},
   "outputs": [],
   "source": []
  }
 ],
 "metadata": {
  "kernelspec": {
   "display_name": "Python 3 (ipykernel)",
   "language": "python",
   "name": "python3"
  },
  "language_info": {
   "codemirror_mode": {
    "name": "ipython",
    "version": 3
   },
   "file_extension": ".py",
   "mimetype": "text/x-python",
   "name": "python",
   "nbconvert_exporter": "python",
   "pygments_lexer": "ipython3",
   "version": "3.8.11"
  }
 },
 "nbformat": 4,
 "nbformat_minor": 5
}
